{
 "cells": [
  {
   "cell_type": "code",
   "execution_count": 2,
   "metadata": {},
   "outputs": [
    {
     "name": "stdout",
     "output_type": "stream",
     "text": [
      "2\n",
      "3 5\n",
      "7 11 13\n",
      "17 19 23 29\n"
     ]
    }
   ],
   "source": [
    "def adalah_prima(n):\n",
    "    if n <= 1:\n",
    "        return False\n",
    "    for i in range(2, int(n**0.5) + 1):\n",
    "        if n % i == 0:\n",
    "            return False\n",
    "    return True\n",
    "\n",
    "def buat_pola_prima(baris):\n",
    "    prima = []\n",
    "    angka = 2\n",
    "    for i in range(1, baris + 1):\n",
    "        baris_prima = []\n",
    "        while len(baris_prima) < i:\n",
    "            if adalah_prima(angka):\n",
    "                baris_prima.append(angka)\n",
    "            angka += 1\n",
    "        prima.append(baris_prima)\n",
    "\n",
    "    for baris_prima in prima:\n",
    "        print(\" \".join(map(str, baris_prima)))\n",
    "\n",
    "buat_pola_prima(4)\n"
   ]
  },
  {
   "cell_type": "code",
   "execution_count": 3,
   "metadata": {},
   "outputs": [
    {
     "name": "stdout",
     "output_type": "stream",
     "text": [
      "[98, 76, 43, 21]\n"
     ]
    }
   ],
   "source": [
    "def gabung_urut_ganjil(list1, list2):\n",
    "    # Mengambil elemen dengan indeks ganjil dari kedua list\n",
    "    elemen_ganjil = [list1[i] for i in range(1, len(list1), 2)] + [list2[i] for i in range(1, len(list2), 2)]\n",
    "    \n",
    "    # Mengurutkan elemen secara menurun\n",
    "    elemen_ganjil.sort(reverse=True)\n",
    "    \n",
    "    return elemen_ganjil\n",
    "\n",
    "list1 = [10, 21, 32, 43, 54]\n",
    "list2 = [65, 76, 87, 98, 109]\n",
    "hasil = gabung_urut_ganjil(list1, list2)\n",
    "print(hasil)"
   ]
  },
  {
   "cell_type": "code",
   "execution_count": 4,
   "metadata": {},
   "outputs": [
    {
     "name": "stdout",
     "output_type": "stream",
     "text": [
      "Penarikan berhasil. Saldo akhir Anda adalah: Rp800000\n"
     ]
    }
   ],
   "source": [
    "def atm_simulasi():\n",
    "    saldo = 1000000  # Saldo awal\n",
    "    pin_benar = \"1234\"  # PIN yang benar\n",
    "    percobaan = 0\n",
    "\n",
    "    # Meminta pengguna memasukkan PIN (dibatasi 3 kali percobaan)\n",
    "    while percobaan < 3:\n",
    "        pin = input(\"Masukkan PIN Anda: \")\n",
    "        if pin == pin_benar:\n",
    "            break\n",
    "        else:\n",
    "            percobaan += 1\n",
    "            print(f\"PIN salah. Percobaan {percobaan} dari 3.\")\n",
    "    else:\n",
    "        print(\"Anda telah memasukkan PIN yang salah sebanyak 3 kali. Kartu ATM Anda diblokir.\")\n",
    "        return\n",
    "\n",
    "    # Meminta jumlah penarikan\n",
    "    try:\n",
    "        jumlah_tarik = int(input(\"Masukkan jumlah penarikan: \"))\n",
    "    except ValueError:\n",
    "        print(\"Jumlah penarikan harus berupa angka.\")\n",
    "        return\n",
    "\n",
    "    # Memeriksa apakah saldo cukup\n",
    "    if jumlah_tarik > saldo:\n",
    "        print(\"Saldo tidak mencukupi untuk penarikan ini.\")\n",
    "    else:\n",
    "        saldo -= jumlah_tarik\n",
    "        print(f\"Penarikan berhasil. Saldo akhir Anda adalah: Rp{saldo}\")\n",
    "\n",
    "# Menjalankan simulasi ATM\n",
    "atm_simulasi()\n"
   ]
  },
  {
   "cell_type": "code",
   "execution_count": 14,
   "metadata": {},
   "outputs": [
    {
     "name": "stdout",
     "output_type": "stream",
     "text": [
      "Mahasiswa dengan nilai tertinggi: Siswa_7 dengan rata-rata nilai 100.00\n",
      "Mahasiswa dengan nilai terendah: Siswa_5 dengan rata-rata nilai 50.00\n"
     ]
    }
   ],
   "source": [
    "import pandas as pd\n",
    "import numpy as np\n",
    "import csv\n",
    "\n",
    "def baca_csv(nilai_siswa):\n",
    "    data_mahasiswa = {}\n",
    "    with open(nilai_siswa, mode='r') as file:\n",
    "        csv_reader = csv.reader(file)\n",
    "        header = next(csv_reader)  # Membaca header\n",
    "        for row in csv_reader:\n",
    "            nama = row[0]\n",
    "            nilai = list(map(int, row[1:]))\n",
    "            data_mahasiswa[nama] = nilai\n",
    "    return data_mahasiswa\n",
    "\n",
    "def hitung_rata_rata(data_mahasiswa):\n",
    "    rata_rata = {}\n",
    "    for nama, nilai in data_mahasiswa.items():\n",
    "        rata_rata[nama] = sum(nilai) / len(nilai)\n",
    "    return rata_rata\n",
    "\n",
    "def tampilkan_tertinggi_terendah(rata_rata):\n",
    "    tertinggi = max(rata_rata, key=rata_rata.get)\n",
    "    terendah = min(rata_rata, key=rata_rata.get)\n",
    "    print(f\"Mahasiswa dengan nilai tertinggi: {tertinggi} dengan rata-rata nilai {rata_rata[tertinggi]:.2f}\")\n",
    "    print(f\"Mahasiswa dengan nilai terendah: {terendah} dengan rata-rata nilai {rata_rata[terendah]:.2f}\")\n",
    "\n",
    "nilai_siswa = 'nilai_siswa.csv'  \n",
    "data_mahasiswa = baca_csv(nilai_siswa)\n",
    "rata_rata = hitung_rata_rata(data_mahasiswa)\n",
    "tampilkan_tertinggi_terendah(rata_rata)"
   ]
  },
  {
   "cell_type": "code",
   "execution_count": 5,
   "metadata": {},
   "outputs": [
    {
     "name": "stdout",
     "output_type": "stream",
     "text": [
      "Selamat datang di permainan tebak angka!\n",
      "Saya telah memilih sebuah angka antara 1 hingga 100.\n",
      "Anda memiliki 5 kali percobaan untuk menebak angka tersebut.\n",
      "Terlalu kecil!\n",
      "Terlalu kecil!\n",
      "Terlalu besar!\n",
      "Terlalu besar!\n",
      "Terlalu besar!\n",
      "Maaf, Anda telah kehabisan percobaan. Angka yang benar adalah 19.\n"
     ]
    }
   ],
   "source": [
    "import random\n",
    "\n",
    "def permainan_tebak_angka():\n",
    "    angka_rahasia = random.randint(1, 100)\n",
    "    percobaan = 0\n",
    "    max_percobaan = 5\n",
    "\n",
    "    print(\"Selamat datang di permainan tebak angka!\")\n",
    "    print(\"Saya telah memilih sebuah angka antara 1 hingga 100.\")\n",
    "    print(f\"Anda memiliki {max_percobaan} kali percobaan untuk menebak angka tersebut.\")\n",
    "\n",
    "    while percobaan < max_percobaan:\n",
    "        try:\n",
    "            tebakan = int(input(\"Masukkan tebakan Anda: \"))\n",
    "        except ValueError:\n",
    "            print(\"Masukkan angka yang valid.\")\n",
    "            continue\n",
    "\n",
    "        percobaan += 1\n",
    "\n",
    "        if tebakan < angka_rahasia:\n",
    "            print(\"Terlalu kecil!\")\n",
    "        elif tebakan > angka_rahasia:\n",
    "            print(\"Terlalu besar!\")\n",
    "        else:\n",
    "            print(f\"Selamat! Anda berhasil menebak angka {angka_rahasia} dalam {percobaan} percobaan.\")\n",
    "            return\n",
    "\n",
    "    print(f\"Maaf, Anda telah kehabisan percobaan. Angka yang benar adalah {angka_rahasia}.\")\n",
    "\n",
    "# Menjalankan permainan\n",
    "permainan_tebak_angka()"
   ]
  },
  {
   "cell_type": "code",
   "execution_count": 6,
   "metadata": {},
   "outputs": [
    {
     "name": "stdout",
     "output_type": "stream",
     "text": [
      "Input: n = 4\n",
      "Output: 1, 1, 2, 6, 24\n"
     ]
    }
   ],
   "source": [
    "def faktorial(n):\n",
    "    if n == 0 or n == 1:\n",
    "        return 1\n",
    "    else:\n",
    "        return n * faktorial(n - 1)\n",
    "\n",
    "def urutan_faktorial(n):\n",
    "    hasil = []\n",
    "    for i in range(n + 1):\n",
    "        hasil.append(faktorial(i))\n",
    "    return hasil\n",
    "\n",
    "n = 4\n",
    "print(f\"Input: n = {n}\")\n",
    "print(f\"Output: {', '.join(map(str, urutan_faktorial(n)))}\")"
   ]
  },
  {
   "cell_type": "code",
   "execution_count": 7,
   "metadata": {},
   "outputs": [
    {
     "name": "stdout",
     "output_type": "stream",
     "text": [
      "Jumlah minimum koin yang dibutuhkan untuk mencapai 30 adalah 2\n"
     ]
    }
   ],
   "source": [
    "def minimum_coin_change(coins, jumlah):\n",
    "    # Inisialisasi array untuk menyimpan jumlah minimum koin yang dibutuhkan untuk setiap jumlah\n",
    "    dp = [float('inf')] * (jumlah + 1)\n",
    "    dp[0] = 0  # Tidak ada koin yang dibutuhkan untuk jumlah 0\n",
    "\n",
    "    # Mengisi array dp dengan jumlah minimum koin yang dibutuhkan\n",
    "    for i in range(1, jumlah + 1):\n",
    "        for coin in coins:\n",
    "            if i - coin >= 0:\n",
    "                dp[i] = min(dp[i], dp[i - coin] + 1)\n",
    "\n",
    "    # Jika tidak mungkin mencapai jumlah dengan koin yang tersedia, kembalikan -1\n",
    "    return dp[jumlah] if dp[jumlah] != float('inf') else -1\n",
    "\n",
    "coins = [1, 5, 10, 25]\n",
    "jumlah = 30\n",
    "hasil = minimum_coin_change(coins, jumlah)\n",
    "if hasil != -1:\n",
    "    print(f\"Jumlah minimum koin yang dibutuhkan untuk mencapai {jumlah} adalah {hasil}\")\n",
    "else:\n",
    "    print(f\"Tidak mungkin mencapai jumlah {jumlah} dengan koin yang tersedia\")"
   ]
  },
  {
   "cell_type": "code",
   "execution_count": 8,
   "metadata": {},
   "outputs": [
    {
     "name": "stdout",
     "output_type": "stream",
     "text": [
      "['ayaS', 'akuS', 'nohtyP']\n"
     ]
    }
   ],
   "source": [
    "def balik_kata(kalimat):\n",
    "    # Memisahkan kalimat menjadi list kata-kata\n",
    "    kata_kata = kalimat.split()\n",
    "    \n",
    "    # Membalik setiap kata dalam list\n",
    "    kata_kata_terbalik = [kata[::-1] for kata in kata_kata]\n",
    "    \n",
    "    return kata_kata_terbalik\n",
    "\n",
    "# Contoh penggunaan\n",
    "kalimat = input(\"Masukkan kalimat: \")\n",
    "hasil = balik_kata(kalimat)\n",
    "print(hasil)"
   ]
  },
  {
   "cell_type": "code",
   "execution_count": 9,
   "metadata": {},
   "outputs": [
    {
     "name": "stdout",
     "output_type": "stream",
     "text": [
      "Judul: Laskar Pelangi\n",
      "Penulis: Andrea Hirata\n",
      "Tahun Terbit: 2005\n",
      "Usia Buku: 19 tahun\n",
      "\n",
      "Judul: Bumi Manusia\n",
      "Penulis: Pramoedya Ananta Toer\n",
      "Tahun Terbit: 1980\n",
      "Usia Buku: 44 tahun\n",
      "\n",
      "Judul: Harry Potter and the Philosopher's Stone\n",
      "Penulis: J.K. Rowling\n",
      "Tahun Terbit: 1997\n",
      "Usia Buku: 27 tahun\n",
      "\n"
     ]
    }
   ],
   "source": [
    "from datetime import datetime\n",
    "\n",
    "class Buku:\n",
    "    def __init__(self, judul, penulis, tahun_terbit):\n",
    "        self.judul = judul\n",
    "        self.penulis = penulis\n",
    "        self.tahun_terbit = tahun_terbit\n",
    "\n",
    "    def tampilkan_informasi(self):\n",
    "        print(f\"Judul: {self.judul}\")\n",
    "        print(f\"Penulis: {self.penulis}\")\n",
    "        print(f\"Tahun Terbit: {self.tahun_terbit}\")\n",
    "\n",
    "    def hitung_usia(self):\n",
    "        tahun_sekarang = datetime.now().year\n",
    "        usia = tahun_sekarang - self.tahun_terbit\n",
    "        return usia\n",
    "\n",
    "# Membuat 3 objek dari class Buku\n",
    "buku1 = Buku(\"Laskar Pelangi\", \"Andrea Hirata\", 2005)\n",
    "buku2 = Buku(\"Bumi Manusia\", \"Pramoedya Ananta Toer\", 1980)\n",
    "buku3 = Buku(\"Harry Potter and the Philosopher's Stone\", \"J.K. Rowling\", 1997)\n",
    "\n",
    "# Menampilkan informasi dan usia masing-masing buku\n",
    "buku_list = [buku1, buku2, buku3]\n",
    "for buku in buku_list:\n",
    "    buku.tampilkan_informasi()\n",
    "    print(f\"Usia Buku: {buku.hitung_usia()} tahun\\n\")\n",
    "    "
   ]
  },
  {
   "cell_type": "code",
   "execution_count": 10,
   "metadata": {},
   "outputs": [
    {
     "name": "stdout",
     "output_type": "stream",
     "text": [
      "Nilai yang dicari adalah angka ganjil, tidak bisa ditemukan.\n",
      "Nilai 8 ditemukan pada indeks 3.\n"
     ]
    }
   ],
   "source": [
    "def binary_search_genap(arr, target):\n",
    "    # Memeriksa apakah target adalah angka ganjil\n",
    "    if target % 2 != 0:\n",
    "        return \"Nilai yang dicari adalah angka ganjil, tidak bisa ditemukan.\"\n",
    "\n",
    "    low, high = 0, len(arr) - 1\n",
    "\n",
    "    while low <= high:\n",
    "        mid = (low + high) // 2\n",
    "        if arr[mid] == target:\n",
    "            return f\"Nilai {target} ditemukan pada indeks {mid}.\"\n",
    "        elif arr[mid] < target:\n",
    "            low = mid + 1\n",
    "        else:\n",
    "            high = mid - 1\n",
    "\n",
    "    return f\"Nilai {target} tidak ditemukan dalam list.\"\n",
    "\n",
    "list_genap = [2, 4, 6, 8, 10, 12, 14, 16, 18, 20]\n",
    "target = 7\n",
    "hasil = binary_search_genap(list_genap, target)\n",
    "print(hasil)\n",
    "\n",
    "target = 8\n",
    "hasil = binary_search_genap(list_genap, target)\n",
    "print(hasil)\n"
   ]
  },
  {
   "cell_type": "code",
   "execution_count": null,
   "metadata": {},
   "outputs": [],
   "source": []
  }
 ],
 "metadata": {
  "kernelspec": {
   "display_name": "base",
   "language": "python",
   "name": "python3"
  },
  "language_info": {
   "codemirror_mode": {
    "name": "ipython",
    "version": 3
   },
   "file_extension": ".py",
   "mimetype": "text/x-python",
   "name": "python",
   "nbconvert_exporter": "python",
   "pygments_lexer": "ipython3",
   "version": "3.11.5"
  }
 },
 "nbformat": 4,
 "nbformat_minor": 2
}
